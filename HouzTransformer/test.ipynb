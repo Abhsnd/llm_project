{
 "cells": [
  {
   "cell_type": "code",
   "execution_count": 4,
   "outputs": [],
   "source": [
    "from dataclasses import dataclass"
   ],
   "metadata": {
    "collapsed": false,
    "ExecuteTime": {
     "end_time": "2025-03-19T14:44:50.906504Z",
     "start_time": "2025-03-19T14:44:50.899183Z"
    }
   },
   "id": "a9b5eb527b856c5"
  },
  {
   "cell_type": "code",
   "execution_count": 5,
   "outputs": [],
   "source": [
    "@dataclass\n",
    "class TransformerConfig:\n",
    "    block_size: int = 1024\n",
    "    vocab_size: int = 50304 \n",
    "    n_layer: int = 4\n",
    "    n_head: int = 4\n",
    "    n_embd: int = 768\n",
    "    dropout: float = 0.0\n",
    "    bias: bool = True "
   ],
   "metadata": {
    "collapsed": false,
    "ExecuteTime": {
     "end_time": "2025-03-19T14:44:51.955318Z",
     "start_time": "2025-03-19T14:44:51.950278Z"
    }
   },
   "id": "1e3f47fe04fed864"
  },
  {
   "cell_type": "code",
   "execution_count": 6,
   "outputs": [],
   "source": [
    "model_config = TransformerConfig(vocab_size=10, block_size=12, n_layer=2, n_head=4, n_embd=16, dropout=0.0, bias=True)"
   ],
   "metadata": {
    "collapsed": false,
    "ExecuteTime": {
     "end_time": "2025-03-19T14:44:53.765519Z",
     "start_time": "2025-03-19T14:44:53.759514Z"
    }
   },
   "id": "ab820623d879260f"
  },
  {
   "cell_type": "code",
   "execution_count": 7,
   "outputs": [],
   "source": [
    "from houz_transformer import Transformer"
   ],
   "metadata": {
    "collapsed": false,
    "ExecuteTime": {
     "end_time": "2025-03-19T14:44:56.839184Z",
     "start_time": "2025-03-19T14:44:56.035455Z"
    }
   },
   "id": "e1786bf88c4523ff"
  },
  {
   "cell_type": "code",
   "execution_count": 8,
   "outputs": [
    {
     "name": "stdout",
     "output_type": "stream",
     "text": [
      "number of parameters: 0.02M\n"
     ]
    }
   ],
   "source": [
    "model = Transformer(model_config)"
   ],
   "metadata": {
    "collapsed": false,
    "ExecuteTime": {
     "end_time": "2025-03-19T14:44:58.392439Z",
     "start_time": "2025-03-19T14:44:58.379875Z"
    }
   },
   "id": "f61e206fb365ed33"
  },
  {
   "cell_type": "code",
   "execution_count": 9,
   "outputs": [],
   "source": [
    "import torch"
   ],
   "metadata": {
    "collapsed": false,
    "ExecuteTime": {
     "end_time": "2025-03-19T14:45:00.386123Z",
     "start_time": "2025-03-19T14:45:00.379350Z"
    }
   },
   "id": "df9a2b9a5dfc0053"
  },
  {
   "cell_type": "code",
   "execution_count": 10,
   "outputs": [
    {
     "name": "stdout",
     "output_type": "stream",
     "text": [
      "idx torch.Size([4, 8])\n",
      "tok_emb torch.Size([4, 8, 16])\n",
      "x after wpe: torch.Size([4, 8, 16])\n",
      "enc_out: torch.Size([4, 8, 16])\n",
      "x after decoder: torch.Size([4, 8, 16])\n",
      "logits torch.Size([4, 1, 10])\n"
     ]
    }
   ],
   "source": [
    "idx = torch.randint(1, 10, (4, 8))\n",
    "logits, _ = model(idx)\n",
    "print(\"logits\", logits.size())"
   ],
   "metadata": {
    "collapsed": false,
    "ExecuteTime": {
     "end_time": "2025-03-19T14:45:02.516980Z",
     "start_time": "2025-03-19T14:45:02.493154Z"
    }
   },
   "id": "d16afb687c4132dd"
  },
  {
   "cell_type": "code",
   "execution_count": 11,
   "outputs": [
    {
     "name": "stdout",
     "output_type": "stream",
     "text": [
      "idx torch.Size([4, 8])\n",
      "tok_emb torch.Size([4, 8, 16])\n",
      "x after wpe: torch.Size([4, 8, 16])\n",
      "enc_out: torch.Size([4, 8, 16])\n",
      "x after decoder: torch.Size([4, 8, 16])\n",
      "idx torch.Size([4, 9])\n",
      "tok_emb torch.Size([4, 9, 16])\n",
      "x after wpe: torch.Size([4, 9, 16])\n",
      "enc_out: torch.Size([4, 9, 16])\n",
      "x after decoder: torch.Size([4, 9, 16])\n",
      "idx torch.Size([4, 10])\n",
      "tok_emb torch.Size([4, 10, 16])\n",
      "x after wpe: torch.Size([4, 10, 16])\n",
      "enc_out: torch.Size([4, 10, 16])\n",
      "x after decoder: torch.Size([4, 10, 16])\n",
      "generate result torch.Size([4, 11])\n"
     ]
    }
   ],
   "source": [
    "result = model.generate(idx, 3)\n",
    "print(\"generate result\", result.size())"
   ],
   "metadata": {
    "collapsed": false,
    "ExecuteTime": {
     "end_time": "2025-03-19T14:45:38.084923Z",
     "start_time": "2025-03-19T14:45:38.031503Z"
    }
   },
   "id": "b1d79bc250310c94"
  },
  {
   "cell_type": "code",
   "execution_count": 12,
   "outputs": [
    {
     "data": {
      "text/plain": "tensor([[7, 9, 5, 7, 3, 6, 5, 3, 1, 3, 7],\n        [4, 6, 4, 3, 6, 7, 1, 6, 0, 4, 0],\n        [6, 7, 3, 9, 4, 5, 4, 9, 9, 3, 2],\n        [8, 6, 1, 5, 5, 9, 1, 7, 5, 5, 4]])"
     },
     "execution_count": 12,
     "metadata": {},
     "output_type": "execute_result"
    }
   ],
   "source": [
    "result"
   ],
   "metadata": {
    "collapsed": false,
    "ExecuteTime": {
     "end_time": "2025-03-19T14:46:24.491988Z",
     "start_time": "2025-03-19T14:46:24.478844Z"
    }
   },
   "id": "9f20f065e3eee4f9"
  },
  {
   "cell_type": "code",
   "execution_count": null,
   "outputs": [],
   "source": [],
   "metadata": {
    "collapsed": false
   },
   "id": "382ae402f7d4c5fc"
  }
 ],
 "metadata": {
  "kernelspec": {
   "name": "llm",
   "language": "python",
   "display_name": "llm"
  },
  "language_info": {
   "codemirror_mode": {
    "name": "ipython",
    "version": 2
   },
   "file_extension": ".py",
   "mimetype": "text/x-python",
   "name": "python",
   "nbconvert_exporter": "python",
   "pygments_lexer": "ipython2",
   "version": "2.7.6"
  }
 },
 "nbformat": 4,
 "nbformat_minor": 5
}
